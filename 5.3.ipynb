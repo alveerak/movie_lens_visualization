{
 "cells": [
  {
   "cell_type": "code",
   "execution_count": 57,
   "metadata": {},
   "outputs": [],
   "source": [
    "from surprise import SVD\n",
    "from surprise import Dataset, Reader\n",
    "from surprise.model_selection import cross_validate\n",
    "\n",
    "def run_surprise(filename, bias):\n",
    "    # Load the movielens-100k dataset (download it if needed).\n",
    "    data = Dataset.load_builtin('ml-100k')\n",
    "    # Use to load our own data\n",
    "    reader = Reader(line_format='user item rating', sep='\\t')\n",
    "    data = Dataset.load_from_file(filename, reader=reader)\n",
    "    # Use the famous SVD algorithm.\n",
    "    algo = SVD(biased=bias, n_factors=20)\n",
    "\n",
    "    # Run 5-fold cross-validation and print results.\n",
    "    cross_validate(algo, data, measures=['RMSE', 'MAE'], cv=5, verbose=True)\n",
    "\n",
    "    U_surprise = algo.pu\n",
    "    V_surprise = algo.qi\n",
    "    \n",
    "    return U_surprise, V_surprise"
   ]
  },
  {
   "cell_type": "code",
   "execution_count": 58,
   "metadata": {},
   "outputs": [
    {
     "name": "stdout",
     "output_type": "stream",
     "text": [
      "Evaluating RMSE, MAE of algorithm SVD on 5 split(s).\n",
      "\n",
      "                  Fold 1  Fold 2  Fold 3  Fold 4  Fold 5  Mean    Std     \n",
      "RMSE (testset)    0.9430  0.9350  0.9377  0.9421  0.9358  0.9387  0.0032  \n",
      "MAE (testset)     0.7455  0.7373  0.7386  0.7438  0.7396  0.7410  0.0032  \n",
      "Fit time          1.94    1.93    2.03    2.00    2.11    2.00    0.06    \n",
      "Test time         0.17    0.15    0.13    0.16    0.22    0.17    0.03    \n"
     ]
    }
   ],
   "source": [
    "# biased training error\n",
    "U1, V1 = run_surprise('train.txt', 'true')"
   ]
  },
  {
   "cell_type": "code",
   "execution_count": 59,
   "metadata": {},
   "outputs": [
    {
     "name": "stdout",
     "output_type": "stream",
     "text": [
      "Evaluating RMSE, MAE of algorithm SVD on 5 split(s).\n",
      "\n",
      "                  Fold 1  Fold 2  Fold 3  Fold 4  Fold 5  Mean    Std     \n",
      "RMSE (testset)    1.0089  0.9986  1.0033  1.0258  0.9972  1.0067  0.0104  \n",
      "MAE (testset)     0.8046  0.8008  0.8100  0.8224  0.7940  0.8064  0.0096  \n",
      "Fit time          0.26    0.28    0.24    0.24    0.21    0.25    0.02    \n",
      "Test time         0.02    0.02    0.02    0.02    0.02    0.02    0.00    \n"
     ]
    }
   ],
   "source": [
    "# biased testing error\n",
    "U2, V2 = run_surprise('test.txt', 'true')"
   ]
  },
  {
   "cell_type": "code",
   "execution_count": 60,
   "metadata": {},
   "outputs": [
    {
     "name": "stdout",
     "output_type": "stream",
     "text": [
      "Evaluating RMSE, MAE of algorithm SVD on 5 split(s).\n",
      "\n",
      "                  Fold 1  Fold 2  Fold 3  Fold 4  Fold 5  Mean    Std     \n",
      "RMSE (testset)    0.9272  0.9528  0.9333  0.9352  0.9406  0.9378  0.0086  \n",
      "MAE (testset)     0.7294  0.7522  0.7377  0.7379  0.7440  0.7402  0.0076  \n",
      "Fit time          2.28    2.46    2.46    2.51    2.36    2.41    0.08    \n",
      "Test time         0.21    0.17    0.23    0.20    0.13    0.19    0.03    \n"
     ]
    }
   ],
   "source": [
    "# no bias training error\n",
    "U3, V3 = run_surprise('train.txt', 'false')"
   ]
  },
  {
   "cell_type": "code",
   "execution_count": 61,
   "metadata": {},
   "outputs": [
    {
     "name": "stdout",
     "output_type": "stream",
     "text": [
      "Evaluating RMSE, MAE of algorithm SVD on 5 split(s).\n",
      "\n",
      "                  Fold 1  Fold 2  Fold 3  Fold 4  Fold 5  Mean    Std     \n",
      "RMSE (testset)    1.0007  1.0165  0.9895  0.9987  1.0070  1.0025  0.0090  \n",
      "MAE (testset)     0.8046  0.8134  0.7918  0.8013  0.8052  0.8033  0.0070  \n",
      "Fit time          0.20    0.20    0.20    0.20    0.20    0.20    0.00    \n",
      "Test time         0.02    0.01    0.02    0.01    0.01    0.02    0.00    \n"
     ]
    }
   ],
   "source": [
    "# no bias test error\n",
    "U3, V3 = run_surprise('test.txt', 'false')"
   ]
  },
  {
   "cell_type": "code",
   "execution_count": null,
   "metadata": {},
   "outputs": [],
   "source": []
  }
 ],
 "metadata": {
  "kernelspec": {
   "display_name": "Python 3",
   "language": "python",
   "name": "python3"
  },
  "language_info": {
   "codemirror_mode": {
    "name": "ipython",
    "version": 3
   },
   "file_extension": ".py",
   "mimetype": "text/x-python",
   "name": "python",
   "nbconvert_exporter": "python",
   "pygments_lexer": "ipython3",
   "version": "3.6.5"
  }
 },
 "nbformat": 4,
 "nbformat_minor": 2
}

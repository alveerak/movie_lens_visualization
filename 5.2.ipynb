{
 "cells": [
  {
   "cell_type": "code",
   "execution_count": 2,
   "metadata": {},
   "outputs": [],
   "source": [
    "# Matrix Factorization with Bias\n",
    "import numpy as np\n",
    "import random\n",
    "def grad_U(Ui, Yij, Vj, reg, eta, a, b):\n",
    "    \"\"\"\n",
    "    Takes as input Ui (the ith row of U), a training point Yij, the column\n",
    "    vector Vj (jth column of V^T), reg (the regularization parameter lambda),\n",
    "    and eta (the learning rate).\n",
    "\n",
    "    Returns the gradient of the regularized loss function with\n",
    "    respect to Ui multiplied by eta.\n",
    "    \"\"\"\n",
    "    s = np.dot(Vj, (Yij - np.dot(Ui, Vj) - a - b ))\n",
    "    return eta * (np.dot(reg, Ui) - s)\n",
    "\n",
    "\n",
    "def grad_V(Vj, Yij, Ui, reg, eta, a, b):\n",
    "    \"\"\"\n",
    "    Takes as input the column vector Vj (jth column of V^T), a training point Yij,\n",
    "    Ui (the ith row of U), reg (the regularization parameter lambda),\n",
    "    and eta (the learning rate).\n",
    "\n",
    "    Returns the gradient of the regularized loss function with\n",
    "    respect to Vj multiplied by eta.\n",
    "    \"\"\"\n",
    "    \n",
    "    s = np.dot(Ui, (Yij - np.dot(Ui, Vj) - a - b ))\n",
    "    return eta * (np.dot(reg, Vj) - s)\n",
    "\n",
    "\n",
    "def grad_A(Vj, Yij, Ui, reg, eta, a, b):\n",
    "    \"\"\"\n",
    "    Takes as input the column vector Vj (jth column of V^T), a training point Yij,\n",
    "    Ui (the ith row of U), reg (the regularization parameter lambda),\n",
    "    and eta (the learning rate).\n",
    "\n",
    "    Returns the gradient of the regularized loss function with\n",
    "    respect to a multiplied by eta.\n",
    "    \"\"\"\n",
    "    s = (Yij - np.dot(Ui, Vj) - a - b )\n",
    "    return -eta * (s - (reg * a))\n",
    "    \n",
    "def grad_B(Vj, Yij, Ui, reg, eta, a, b):\n",
    "    \"\"\"\n",
    "    Takes as input the column vector Vj (jth column of V^T), a training point Yij,\n",
    "    Ui (the ith row of U), reg (the regularization parameter lambda),\n",
    "    and eta (the learning rate).\n",
    "\n",
    "    Returns the gradient of the regularized loss function with\n",
    "    respect to b multiplied by eta.\n",
    "    \"\"\"\n",
    "    s = Yij - np.dot(Ui, Vj) - a - b \n",
    "    return -eta * (s - (reg * b))\n",
    "    \n",
    "    \n",
    "    \n",
    "def get_err(U, V, Y, A, B, reg=0.0):\n",
    "    \"\"\"\n",
    "    Takes as input a matrix Y of triples (i, j, Y_ij) where i is the index of a user,\n",
    "    j is the index of a movie, and Y_ij is user i's rating of movie j and\n",
    "    user/movie matrices U and V.\n",
    "\n",
    "    Returns the mean regularized squared-error of predictions made by\n",
    "    estimating Y_{ij} as the dot product of the ith row of U and the jth column of V^T \n",
    "    with the bias terms included.\n",
    "    \"\"\"\n",
    "    err = 0.0\n",
    "    for k in range(len(Y)):\n",
    "        i, j, sign = Y[k]\n",
    "        curr1 = np.dot(U[i-1], V[j-1]) + A[i-1] + B[j-1]\n",
    "        err += .5 * ((sign - curr1) ** 2)\n",
    "    return err / len(Y)\n",
    "    \n",
    "# Perform the (Yij - mean) part of the optimation function by offsetting each term by average.\n",
    "def center(train, test):\n",
    "    avg = np.mean(train[:,2])\n",
    "    train[:,2] = train[:,2 ] - avg\n",
    "    test[:,2] = test[:, 2] - avg\n",
    "    \n",
    "\n",
    "def train_model(M, N, K, eta, reg, Y, eps=0.0001, max_epochs=300):\n",
    "    \"\"\"\n",
    "    Given a training data matrix Y containing rows (i, j, Y_ij)\n",
    "    where Y_ij is user i's rating on movie j, learns an\n",
    "    M x K matrix U and N x K matrix V such that rating Y_ij is approximated\n",
    "    by (UV^T)_ij.\n",
    "\n",
    "    Uses a learning rate of <eta> and regularization of <reg>. Stops after\n",
    "    <max_epochs> epochs, or once the magnitude of the decrease in regularized\n",
    "    MSE between epochs is smaller than a fraction <eps> of the decrease in\n",
    "    MSE after the first epoch.\n",
    "\n",
    "    Returns a tuple (U, V, err, A, B) consisting of U, V, and the unregularized MSE\n",
    "    of the model, and the bias A, B\n",
    "    \"\"\"\n",
    "    itr = 0\n",
    "    U = np.random.uniform(-0.5, 0.5, (M, K))\n",
    "    V = np.random.uniform(-0.5, 0.5, (N, K))\n",
    "    # Bias terms A, B\n",
    "    A = np.random.uniform(-0.5, 0.5, (M))\n",
    "    B = np.random.uniform(-0.5, 0.5, (N))\n",
    "    # get initial loss\n",
    "    ind = list(range(len(Y)))\n",
    "    shuffled = np.random.permutation(ind)\n",
    "    curr_loss = get_err(U, V, Y, A, B)\n",
    "    for k in range(len(Y)):\n",
    "        ind = shuffled[k]\n",
    "        i, j, Yij = Y[ind]\n",
    "        \n",
    "        # update U, V, A, B\n",
    "        u = grad_U(U[i-1], Yij, V[j-1], reg, eta, A[i-1], B[j-1])\n",
    "        v = grad_V(V[j-1], Yij, U[i-1], reg, eta, A[i-1], B[j-1])\n",
    "        a = grad_A(V[j-1], Yij, U[i-1], reg, eta, A[i-1], B[j-1])\n",
    "        b = grad_B(V[j-1], Yij, U[i-1], reg, eta, A[i-1], B[j-1])\n",
    "        U[i-1] = U[i-1] - u \n",
    "        V[j-1] = V[j-1] - v\n",
    "        A[i-1] = A[i-1] - a\n",
    "        B[j-1] = B[j-1] - b\n",
    "    \n",
    "    \n",
    "        \n",
    "    next_loss = get_err(U, V, Y, A, B)\n",
    "    init = curr_loss - next_loss\n",
    "    curr_delta = init\n",
    "    curr_loss = next_loss\n",
    "    \n",
    "    while itr < max_epochs and (curr_delta / init) > eps:\n",
    "        ind = list(range(len(Y)))\n",
    "        shuffled = np.random.permutation(ind)\n",
    "        for k in range(len(Y)):\n",
    "            ind = shuffled[k]\n",
    "            ii, jj, Yij = Y[ind]\n",
    "            i = int(ii)\n",
    "            j = int(jj)\n",
    "            # update U, V, A, B\n",
    "            u = grad_U(U[i-1], Yij, V[j-1], reg, eta, A[i-1], B[j-1])\n",
    "            v = grad_V(V[j-1], Yij, U[i-1], reg, eta, A[i-1], B[j-1])\n",
    "            a = grad_A(V[j-1], Yij, U[i-1], reg, eta, A[i-1], B[j-1])\n",
    "            b = grad_B(V[j-1], Yij, U[i-1], reg, eta, A[i-1], B[j-1])\n",
    "            U[i-1] = U[i-1] - u \n",
    "            V[j-1] = V[j-1] - v\n",
    "            A[i-1] = A[i-1] - a\n",
    "            B[j-1] = B[j-1] - b\n",
    "        next_loss = get_err(U,V,Y, A,B)\n",
    "        \n",
    "        curr_delta = curr_loss - next_loss\n",
    "        curr_loss = next_loss\n",
    "        itr += 1\n",
    "        \n",
    "    print(curr_loss, itr)\n",
    "    return U, V, curr_loss, A, B\n",
    "\n",
    "\n",
    "\n",
    "\n"
   ]
  },
  {
   "cell_type": "code",
   "execution_count": 21,
   "metadata": {},
   "outputs": [
    {
     "name": "stdout",
     "output_type": "stream",
     "text": [
      "Training model with M = 943, N = 1682, k = 20, eta = 0.03, reg = 0, eps = 0.0001\n",
      "0.06800054483567393 54\n",
      "Training model with M = 943, N = 1682, k = 20, eta = 0.03, reg = 0, eps = 0.001\n",
      "0.07463360874466021 32\n",
      "Training model with M = 943, N = 1682, k = 20, eta = 0.03, reg = 0, eps = 0.01\n",
      "0.09038193493290478 15\n",
      "Training model with M = 943, N = 1682, k = 20, eta = 0.03, reg = 0.0001, eps = 0.0001\n",
      "0.0693627723190587 48\n",
      "Training model with M = 943, N = 1682, k = 20, eta = 0.03, reg = 0.0001, eps = 0.001\n",
      "0.07326186198600289 36\n",
      "Training model with M = 943, N = 1682, k = 20, eta = 0.03, reg = 0.0001, eps = 0.01\n",
      "0.09596207509044713 13\n",
      "Training model with M = 943, N = 1682, k = 20, eta = 0.03, reg = 0.01, eps = 0.0001\n",
      "0.07046433731210561 59\n",
      "Training model with M = 943, N = 1682, k = 20, eta = 0.03, reg = 0.01, eps = 0.001\n",
      "0.07468368550120685 42\n",
      "Training model with M = 943, N = 1682, k = 20, eta = 0.03, reg = 0.01, eps = 0.01\n",
      "0.09743612652528211 14\n",
      "Training model with M = 943, N = 1682, k = 20, eta = 0.03, reg = 0.1, eps = 0.0001\n",
      "0.1641151493327514 28\n",
      "Training model with M = 943, N = 1682, k = 20, eta = 0.03, reg = 0.1, eps = 0.001\n",
      "0.16447355035796643 29\n",
      "Training model with M = 943, N = 1682, k = 20, eta = 0.03, reg = 0.1, eps = 0.01\n",
      "0.18943903612274193 3\n",
      "Training model with M = 943, N = 1682, k = 20, eta = 0.03, reg = 1, eps = 0.0001\n",
      "0.22254455386100785 3\n",
      "Training model with M = 943, N = 1682, k = 20, eta = 0.03, reg = 1, eps = 0.001\n",
      "0.22126946109038048 3\n",
      "Training model with M = 943, N = 1682, k = 20, eta = 0.03, reg = 1, eps = 0.01\n",
      "0.22108975806931627 2\n"
     ]
    }
   ],
   "source": [
    "# Find optimal lambda and stopping criteria\n",
    "import numpy as np\n",
    "import matplotlib.pyplot as plt\n",
    "\n",
    "Y_train = np.loadtxt('train.txt').astype(int)\n",
    "Y_test = np.loadtxt('test.txt')\t.astype(int)\n",
    "center(Y_train, Y_test)\n",
    "M = max(max(Y_train[:,0]), max(Y_test[:,0])).astype(int) # users\n",
    "N = max(max(Y_train[:,1]), max(Y_test[:,1])).astype(int) # movies\n",
    "K = 20\n",
    "eps = [.0001, 0.001, 0.01]\n",
    "\n",
    "regs = [0, 10**-4, 10**-2, 10**-1, 1]\n",
    "eta = 0.03 # learning rate\n",
    "E_ins = []\n",
    "E_outs = []\n",
    "\n",
    "# Use to compute Ein and Eout\n",
    "for reg in regs:\n",
    "    E_ins_for_lambda = []\n",
    "    E_outs_for_lambda = []\n",
    "    \n",
    "    for ep in eps:\n",
    "        print(\"Training model with M = %s, N = %s, k = %s, eta = %s, reg = %s, eps = %s\"%(M, N, K, eta, reg, ep))\n",
    "        U,V, e_in, A, B = train_model(M, N, K, eta, reg, Y_train, eps=ep)\n",
    "        E_ins_for_lambda.append(e_in)\n",
    "        eout = get_err(U, V, Y_test, A, B)\n",
    "        E_outs_for_lambda.append(eout)\n",
    "\n",
    "    E_ins.append(E_ins_for_lambda)\n",
    "    E_outs.append(E_outs_for_lambda)\n",
    "\n",
    "\n",
    "\n",
    "\n",
    "\n"
   ]
  },
  {
   "cell_type": "code",
   "execution_count": 26,
   "metadata": {},
   "outputs": [
    {
     "data": {
      "image/png": "[encoded data removed]",
      "text/plain": [
       "<Figure size 432x288 with 1 Axes>"
      ]
     },
     "metadata": {
      "needs_background": "light"
     },
     "output_type": "display_data"
    }
   ],
   "source": [
    "# Plot values of E_in across stopping criteria for each value of lambda\n",
    "for i in range(len(regs)):\n",
    "    plt.plot(eps, E_ins[i], label='$E_{in}, \\lambda=$'+str(regs[i]))\n",
    "plt.title('$E_{in}$ vs. Stopping Criteria')\n",
    "plt.xlabel('Stopping Criteria')\n",
    "plt.ylabel('Error')\n",
    "plt.legend()\n",
    "plt.savefig('ein2.png')\t\n",
    "plt.show()"
   ]
  },
  {
   "cell_type": "code",
   "execution_count": 27,
   "metadata": {},
   "outputs": [
    {
     "data": {
      "image/png": "[encoded data removed]",
      "text/plain": [
       "<Figure size 432x288 with 1 Axes>"
      ]
     },
     "metadata": {
      "needs_background": "light"
     },
     "output_type": "display_data"
    },
    {
     "data": {
      "text/plain": [
       "<Figure size 432x288 with 0 Axes>"
      ]
     },
     "metadata": {},
     "output_type": "display_data"
    }
   ],
   "source": [
    "# Plot values of E_out across stopping criteria for each value of lambda\n",
    "for i in range(len(regs)):\n",
    "    plt.plot(eps, E_outs[i], label='$E_{out}, \\lambda=$'+str(regs[i]))\n",
    "plt.title('$E_{out}$ vs. Stopping Criteria')\n",
    "plt.xlabel('Stopping Criteria')\n",
    "plt.ylabel('Error')\n",
    "plt.legend()\t\n",
    "plt.show()\n",
    "plt.savefig('eout2.png')\t\t\n",
    "\n"
   ]
  },
  {
   "cell_type": "code",
   "execution_count": 3,
   "metadata": {},
   "outputs": [
    {
     "name": "stdout",
     "output_type": "stream",
     "text": [
      "0.18613089849875358 13\n",
      "0.16163401564929913 33\n",
      "0.17329519554004222 13\n",
      "0.17790010559660627 14\n",
      "0.19563325208216262 9\n"
     ]
    }
   ],
   "source": [
    "# Find optimal learning rate using the found stopping criteria and lambda\n",
    "import numpy as np\n",
    "import matplotlib.pyplot as plt\n",
    "\n",
    "\t\t\n",
    "\n",
    "Y_train = np.loadtxt('train.txt').astype(int)\n",
    "Y_test = np.loadtxt('test.txt')\t.astype(int)\n",
    "center(Y_train, Y_test)\n",
    "M = max(max(Y_train[:,0]), max(Y_test[:,0])).astype(int) # users\n",
    "N = max(max(Y_train[:,1]), max(Y_test[:,1])).astype(int) # movies\n",
    "K = 20\n",
    "eps = 0.001\n",
    "\n",
    "regs = .1\n",
    "etas = [0.01, 0.03, 0.07, 0.1, 0.15] # learning rate\n",
    "E_ins2 = []\n",
    "E_outs2 = []\n",
    "\n",
    "# Use to compute Ein and Eout\n",
    "for eta in etas:\n",
    "    U,V, e_in, A, B = train_model(M, N, K, eta, regs, Y_train, eps=eps)\n",
    "    E_ins2.append(e_in)\n",
    "    E_outs2.append(get_err(U, V, Y_test, A, B))\n",
    "    "
   ]
  },
  {
   "cell_type": "code",
   "execution_count": 4,
   "metadata": {},
   "outputs": [
    {
     "data": {
      "image/png": "[encoded data removed]",
      "text/plain": [
       "<Figure size 432x288 with 1 Axes>"
      ]
     },
     "metadata": {
      "needs_background": "light"
     },
     "output_type": "display_data"
    }
   ],
   "source": [
    "# Plot Error vs Learning Rate\n",
    "plt.plot(etas, E_ins2, label='$E_{in}$')\n",
    "plt.plot(etas, E_outs2, label='$E_{out}$')\n",
    "plt.title('Error vs. Learning Rate')\n",
    "plt.xlabel('Learning Rate')\n",
    "plt.ylabel('Error')\n",
    "plt.legend()\n",
    "plt.savefig('e_learn2.png')\t\n",
    "plt.show()"
   ]
  },
  {
   "cell_type": "code",
   "execution_count": 14,
   "metadata": {},
   "outputs": [
    {
     "name": "stdout",
     "output_type": "stream",
     "text": [
      "0.18525998502424038 15\n"
     ]
    }
   ],
   "source": [
    "# Find U, V using the learning rate, lambda, stopping criteria parameters we found\n",
    "import numpy as np\n",
    "import matplotlib.pyplot as plt\n",
    "\n",
    "Y_train = np.loadtxt('train.txt').astype(int)\n",
    "Y_test = np.loadtxt('test.txt')\t.astype(int)\n",
    "center(Y_train, Y_test)\n",
    "M = max(max(Y_train[:,0]), max(Y_test[:,0])).astype(int) # users\n",
    "N = max(max(Y_train[:,1]), max(Y_test[:,1])).astype(int) # movies\n",
    "K = 20\n",
    "\n",
    "U, V, e_in, A, B = train_model(M, N, K, .03, .1, Y_train, eps=.001)\n"
   ]
  },
  {
   "cell_type": "code",
   "execution_count": 15,
   "metadata": {},
   "outputs": [
    {
     "name": "stdout",
     "output_type": "stream",
     "text": [
      "0.20723028956973036\n"
     ]
    }
   ],
   "source": [
    "print(get_err(U, V, Y_test, A, B))"
   ]
  },
  {
   "cell_type": "code",
   "execution_count": 22,
   "metadata": {},
   "outputs": [],
   "source": [
    "np.savetxt(\"U2.txt\", U)\n",
    "np.savetxt(\"V2.txt\", V)\n",
    "np.savetxt(\"A2.txt\", A)\n",
    "np.savetxt(\"B2.txt\", B)"
   ]
  },
  {
   "cell_type": "code",
   "execution_count": null,
   "metadata": {},
   "outputs": [],
   "source": []
  }
 ],
 "metadata": {
  "kernelspec": {
   "display_name": "Python 3",
   "language": "python",
   "name": "python3"
  },
  "language_info": {
   "codemirror_mode": {
    "name": "ipython",
    "version": 3
   },
   "file_extension": ".py",
   "mimetype": "text/x-python",
   "name": "python",
   "nbconvert_exporter": "python",
   "pygments_lexer": "ipython3",
   "version": "3.6.5"
  }
 },
 "nbformat": 4,
 "nbformat_minor": 2
}

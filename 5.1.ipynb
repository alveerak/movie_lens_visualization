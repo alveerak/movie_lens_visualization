{
 "cells": [
  {
   "cell_type": "code",
   "execution_count": 8,
   "metadata": {},
   "outputs": [],
   "source": [
    "# Matrix Factorization without Bias\n",
    "import numpy as np\n",
    "import random\n",
    "def grad_U(Ui, Yij, Vj, reg, eta):\n",
    "    \"\"\"\n",
    "    Takes as input Ui (the ith row of U), a training point Yij, the column\n",
    "    vector Vj (jth column of V^T), reg (the regularization parameter lambda),\n",
    "    and eta (the learning rate).\n",
    "\n",
    "    Returns the gradient of the regularized loss function with\n",
    "    respect to Ui multiplied by eta.\n",
    "    \"\"\"\n",
    "    s = np.dot(Vj, (Yij - np.dot(Ui, Vj)))\n",
    "    return eta * (np.dot(reg, Ui) - s)\n",
    "    \n",
    "\n",
    "\n",
    "def grad_V(Vj, Yij, Ui, reg, eta):\n",
    "    \"\"\"\n",
    "    Takes as input the column vector Vj (jth column of V^T), a training point Yij,\n",
    "    Ui (the ith row of U), reg (the regularization parameter lambda),\n",
    "    and eta (the learning rate).\n",
    "\n",
    "    Returns the gradient of the regularized loss function with\n",
    "    respect to Vj multiplied by eta.\n",
    "    \"\"\"\n",
    "\n",
    "    s = np.dot(Ui, (Yij - np.dot(Ui, Vj)))\n",
    "    return eta * (np.dot(reg, Vj) - s)\n",
    "\n",
    "def get_err(U, V, Y, reg=0.0):\n",
    "    \"\"\"\n",
    "    Takes as input a matrix Y of triples (i, j, Y_ij) where i is the index of a user,\n",
    "    j is the index of a movie, and Y_ij is user i's rating of movie j and\n",
    "    user/movie matrices U and V.\n",
    "\n",
    "    Returns the mean regularized squared-error of predictions made by\n",
    "    estimating Y_{ij} as the dot product of the ith row of U and the jth column of V^T.\n",
    "    \"\"\"\n",
    "    err = 0.0\n",
    "    for k in range(len(Y)):\n",
    "        i, j, sign = Y[k]\n",
    "        curr = np.dot(U[i-1], V[j-1])\n",
    "        \n",
    "        err += .5 *((sign - curr) ** 2)\n",
    "    return err / len(Y)\n",
    "    \n",
    "\n",
    "\n",
    "def train_model(M, N, K, eta, reg, Y, eps=0.0001, max_epochs=300):\n",
    "    \"\"\"\n",
    "    Given a training data matrix Y containing rows (i, j, Y_ij)\n",
    "    where Y_ij is user i's rating on movie j, learns an\n",
    "    M x K matrix U and N x K matrix V such that rating Y_ij is approximated\n",
    "    by (UV^T)_ij.\n",
    "\n",
    "    Uses a learning rate of <eta> and regularization of <reg>. Stops after\n",
    "    <max_epochs> epochs, or once the magnitude of the decrease in regularized\n",
    "    MSE between epochs is smaller than a fraction <eps> of the decrease in\n",
    "    MSE after the first epoch.\n",
    "\n",
    "    Returns a tuple (U, V, err) consisting of U, V, and the unregularized MSE\n",
    "    of the model.\n",
    "    \"\"\"\n",
    "    itr = 0\n",
    "    U = np.random.uniform(-0.5, 0.5, (M, K))\n",
    "    V = np.random.uniform(-0.5, 0.5, (N, K))\n",
    "    # get initial loss\n",
    "    ind = list(range(len(Y)))\n",
    "    shuffled = np.random.permutation(ind)\n",
    "    curr_loss = get_err(U,V,Y)\n",
    "    for k in range(len(Y)):\n",
    "        ind = shuffled[k]\n",
    "        i, j, Yij = Y[ind]\n",
    "        # update U, V\n",
    "        u = grad_U(U[i-1], Yij, V[j-1],reg, eta)\n",
    "        v = grad_V(V[j-1], Yij, U[i-1],reg, eta)\n",
    "        U[i-1] = U[i-1] - u \n",
    "        V[j-1] = V[j-1] - v\n",
    "    next_loss = get_err(U, V, Y)\n",
    "    init = curr_loss - next_loss\n",
    "    curr_delta = init\n",
    "    curr_loss = next_loss\n",
    "    while itr < max_epochs and (curr_delta / init) > eps:\n",
    "        ind = list(range(len(Y)))\n",
    "        shuffled = np.random.permutation(ind)\n",
    "        for k in range(len(Y)):\n",
    "            ind = shuffled[k]\n",
    "            ii, jj, Yij = Y[ind]\n",
    "            i = int(ii)\n",
    "            j = int(jj)\n",
    "            u = grad_U(U[i-1], Yij, V[j-1],reg, eta)\n",
    "            v = grad_V(V[j-1], Yij, U[i-1],reg, eta)\n",
    "            U[i-1] = U[i-1] - u \n",
    "            V[j-1] = V[j-1] - v\n",
    "        next_loss = get_err(U,V,Y)\n",
    "\n",
    "        curr_delta = curr_loss - next_loss\n",
    "        curr_loss = next_loss\n",
    "        itr += 1\n",
    "        \n",
    "    print(curr_loss, itr)\n",
    "    return U, V, curr_loss\n",
    "\n",
    "\n"
   ]
  },
  {
   "cell_type": "code",
   "execution_count": 10,
   "metadata": {},
   "outputs": [
    {
     "name": "stdout",
     "output_type": "stream",
     "text": [
      "Training model with M = 943, N = 1682, k = 20, eta = 0.03, reg = 0.0001, eps = 1e-05\n",
      "0.25595160966177516 11\n",
      "Training model with M = 943, N = 1682, k = 20, eta = 0.03, reg = 0.0001, eps = 0.0001\n",
      "0.25218587041652224 12\n",
      "Training model with M = 943, N = 1682, k = 20, eta = 0.03, reg = 0.0001, eps = 0.001\n",
      "0.290833937791124 5\n",
      "Training model with M = 943, N = 1682, k = 20, eta = 0.03, reg = 0.001, eps = 1e-05\n",
      "0.2735933755209068 9\n",
      "Training model with M = 943, N = 1682, k = 20, eta = 0.03, reg = 0.001, eps = 0.0001\n",
      "0.2750468367660178 8\n",
      "Training model with M = 943, N = 1682, k = 20, eta = 0.03, reg = 0.001, eps = 0.001\n",
      "0.28582698317881844 6\n",
      "Training model with M = 943, N = 1682, k = 20, eta = 0.03, reg = 0.01, eps = 1e-05\n",
      "0.2607390583687554 9\n",
      "Training model with M = 943, N = 1682, k = 20, eta = 0.03, reg = 0.01, eps = 0.0001\n",
      "0.2612673720424708 10\n",
      "Training model with M = 943, N = 1682, k = 20, eta = 0.03, reg = 0.01, eps = 0.001\n",
      "0.2851310070337071 6\n",
      "Training model with M = 943, N = 1682, k = 20, eta = 0.03, reg = 0.1, eps = 1e-05\n",
      "0.28392495996614353 11\n",
      "Training model with M = 943, N = 1682, k = 20, eta = 0.03, reg = 0.1, eps = 0.0001\n",
      "0.2862872595441439 10\n",
      "Training model with M = 943, N = 1682, k = 20, eta = 0.03, reg = 0.1, eps = 0.001\n",
      "0.2875077809745931 9\n",
      "Training model with M = 943, N = 1682, k = 20, eta = 0.03, reg = 1, eps = 1e-05\n",
      "0.6572301181563749 1\n",
      "Training model with M = 943, N = 1682, k = 20, eta = 0.03, reg = 1, eps = 0.0001\n",
      "0.6399009731172225 3\n",
      "Training model with M = 943, N = 1682, k = 20, eta = 0.03, reg = 1, eps = 0.001\n",
      "0.6405261857428584 3\n"
     ]
    }
   ],
   "source": [
    "# Find optimal regularization and stopping condition parameters\n",
    "import numpy as np\n",
    "import matplotlib.pyplot as plt\n",
    "\n",
    "\t\t\n",
    "\n",
    "Y_train = np.loadtxt('train.txt').astype(int)\n",
    "Y_test = np.loadtxt('test.txt')\t.astype(int)\n",
    "\n",
    "M = max(max(Y_train[:,0]), max(Y_test[:,0])).astype(int) # users\n",
    "N = max(max(Y_train[:,1]), max(Y_test[:,1])).astype(int) # movies\n",
    "K = 20\n",
    "eps = [0.00001, 0.0001, 0.001]\n",
    "\n",
    "regs = [10**-4, 10**-3, 10**-2, 10**-1, 1]\n",
    "eta = 0.03 # learning rate\n",
    "E_ins = []\n",
    "E_outs = []\n",
    "\n",
    "# Use to compute Ein and Eout\n",
    "for reg in regs:\n",
    "    E_ins_for_lambda = []\n",
    "    E_outs_for_lambda = []\n",
    "    \n",
    "    for ep in eps:\n",
    "        print(\"Training model with M = %s, N = %s, k = %s, eta = %s, reg = %s, eps = %s\"%(M, N, K, eta, reg, ep))\n",
    "        U,V, e_in = train_model(M, N, K, eta, reg, Y_train, eps=ep)\n",
    "        E_ins_for_lambda.append(e_in)\n",
    "        eout = get_err(U, V, Y_test)\n",
    "        E_outs_for_lambda.append(eout)\n",
    "\n",
    "    E_ins.append(E_ins_for_lambda)\n",
    "    E_outs.append(E_outs_for_lambda)\n",
    "\n",
    "\n",
    "\n"
   ]
  },
  {
   "cell_type": "code",
   "execution_count": null,
   "metadata": {},
   "outputs": [],
   "source": [
    "# Plot values of E_in across stopping criteria for each value of lambda\n",
    "for i in range(len(regs)):\n",
    "    plt.plot(eps, E_ins[i], label='$E_{in}, \\lambda=$'+str(regs[i]))\n",
    "plt.title('$E_{in}$ vs. Stopping Criteria')\n",
    "plt.xlabel('Stopping Criteria')\n",
    "plt.ylabel('Error')\n",
    "plt.legend()\n",
    "plt.savefig('ein.png')\t\n",
    "plt.clf()"
   ]
  },
  {
   "cell_type": "markdown",
   "metadata": {},
   "source": [
    "![title](ein.png)"
   ]
  },
  {
   "cell_type": "code",
   "execution_count": 26,
   "metadata": {},
   "outputs": [
    {
     "data": {
      "image/png": "[encoded data removed]",
      "text/plain": [
       "<Figure size 432x288 with 1 Axes>"
      ]
     },
     "metadata": {
      "needs_background": "light"
     },
     "output_type": "display_data"
    }
   ],
   "source": [
    "# Plot values of E_out across stopping criteria for each value of lambda\n",
    "for i in range(len(regs)):\n",
    "    plt.plot(eps, E_outs[i], label='$E_{out}, \\lambda=$'+str(regs[i]))\n",
    "plt.title('$E_{out}$ vs. Stopping Criteria')\n",
    "plt.xlabel('Stopping Criteria')\n",
    "plt.ylabel('Error')\n",
    "plt.legend()\t\n",
    "plt.savefig('eout.png')\t\t\n",
    "\n"
   ]
  },
  {
   "cell_type": "code",
   "execution_count": 9,
   "metadata": {},
   "outputs": [
    {
     "name": "stdout",
     "output_type": "stream",
     "text": [
      "0.2878887630584867 42\n",
      "0.3003821440050754 19\n",
      "0.3861384133065685 9\n",
      "0.48450446196712194 7\n"
     ]
    }
   ],
   "source": [
    "# After finding optimal stopping condition and lambda, find optimal learning rate. \n",
    "import numpy as np\n",
    "import matplotlib.pyplot as plt\n",
    "\n",
    "\t\t\n",
    "\n",
    "Y_train = np.loadtxt('train.txt').astype(int)\n",
    "Y_test = np.loadtxt('test.txt')\t.astype(int)\n",
    "\n",
    "M = max(max(Y_train[:,0]), max(Y_test[:,0])).astype(int) # users\n",
    "N = max(max(Y_train[:,1]), max(Y_test[:,1])).astype(int) # movies\n",
    "K = 20\n",
    "eps = 0.00001\n",
    "\n",
    "regs = .1\n",
    "etas = [0.01, 0.03, 0.07, 0.1] # learning rate\n",
    "E_ins2 = []\n",
    "E_outs2 = []\n",
    "\n",
    "# Use to compute Ein and Eout\n",
    "for eta in etas:\n",
    "    U,V, e_in = train_model(M, N, K, eta, regs, Y_train, eps=eps)\n",
    "    E_ins2.append(e_in)\n",
    "    E_outs2.append(get_err(U, V, Y_test))\n",
    "    \n"
   ]
  },
  {
   "cell_type": "code",
   "execution_count": 10,
   "metadata": {},
   "outputs": [
    {
     "data": {
      "image/png": "[encoded data removed]",
      "text/plain": [
       "<Figure size 432x288 with 1 Axes>"
      ]
     },
     "metadata": {
      "needs_background": "light"
     },
     "output_type": "display_data"
    }
   ],
   "source": [
    "plt.plot(etas, E_ins2, label='$E_{in}$')\n",
    "plt.plot(etas, E_outs2, label='$E_{out}$')\n",
    "plt.title('Error vs. Learning Rate')\n",
    "plt.xlabel('Learning Rate')\n",
    "plt.ylabel('Error')\n",
    "plt.legend()\n",
    "plt.savefig('e_learn.png')\t\n",
    "plt.show()"
   ]
  },
  {
   "cell_type": "code",
   "execution_count": null,
   "metadata": {},
   "outputs": [],
   "source": []
  },
  {
   "cell_type": "code",
   "execution_count": 2,
   "metadata": {},
   "outputs": [
    {
     "name": "stdout",
     "output_type": "stream",
     "text": [
      "0.2860431427193403 43\n",
      "0.4212399208920167\n"
     ]
    }
   ],
   "source": [
    "# Obtain final U, V using all the optimal parameters. \n",
    "import numpy as np\n",
    "import matplotlib.pyplot as plt\n",
    "\n",
    "Y_train = np.loadtxt('train.txt').astype(int)\n",
    "Y_test = np.loadtxt('test.txt')\t.astype(int)\n",
    "\n",
    "M = max(max(Y_train[:,0]), max(Y_test[:,0])).astype(int) # users\n",
    "N = max(max(Y_train[:,1]), max(Y_test[:,1])).astype(int) # movies\n",
    "K = 20\n",
    "U, V, e_in = train_model(M, N, K, .01, .1, Y_train, eps=.00001)\n",
    "print(get_err(U, V, Y_test))"
   ]
  },
  {
   "cell_type": "code",
   "execution_count": null,
   "metadata": {},
   "outputs": [],
   "source": []
  }
 ],
 "metadata": {
  "kernelspec": {
   "display_name": "Python 3",
   "language": "python",
   "name": "python3"
  },
  "language_info": {
   "codemirror_mode": {
    "name": "ipython",
    "version": 3
   },
   "file_extension": ".py",
   "mimetype": "text/x-python",
   "name": "python",
   "nbconvert_exporter": "python",
   "pygments_lexer": "ipython3",
   "version": "3.6.5"
  }
 },
 "nbformat": 4,
 "nbformat_minor": 2
}
